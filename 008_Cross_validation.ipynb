{
  "nbformat": 4,
  "nbformat_minor": 0,
  "metadata": {
    "colab": {
      "name": "008-Cross-validation.ipynb",
      "provenance": [],
      "collapsed_sections": []
    },
    "kernelspec": {
      "name": "python3",
      "display_name": "Python 3"
    }
  },
  "cells": [
    {
      "cell_type": "markdown",
      "metadata": {
        "id": "Dbfdy4MD3_r6",
        "colab_type": "text"
      },
      "source": [
        "# Cross-validataion\n",
        "\n",
        "# method 1\n",
        "![alt text](https://scikit-learn.org/stable/_images/grid_search_cross_validation.png)\n",
        "\n",
        "# method 2\n",
        "![alt text](https://upload.wikimedia.org/wikipedia/commons/thumb/b/b5/K-fold_cross_validation_EN.svg/1200px-K-fold_cross_validation_EN.svg.png)"
      ]
    },
    {
      "cell_type": "code",
      "metadata": {
        "id": "BzONv72L3xY8",
        "colab_type": "code",
        "colab": {
          "base_uri": "https://localhost:8080/",
          "height": 35
        },
        "outputId": "c42acbf3-a150-4e38-91ae-41a6dbb5437d"
      },
      "source": [
        "import numpy as np\n",
        "from sklearn.model_selection import train_test_split\n",
        "from sklearn import datasets\n",
        "from sklearn import svm\n",
        "\n",
        "X, y = datasets.load_iris(return_X_y=True)\n",
        "X.shape, y.shape"
      ],
      "execution_count": null,
      "outputs": [
        {
          "output_type": "execute_result",
          "data": {
            "text/plain": [
              "((150, 4), (150,))"
            ]
          },
          "metadata": {
            "tags": []
          },
          "execution_count": 37
        }
      ]
    },
    {
      "cell_type": "code",
      "metadata": {
        "id": "QUwrUcNf4gB9",
        "colab_type": "code",
        "colab": {
          "base_uri": "https://localhost:8080/",
          "height": 53
        },
        "outputId": "c3c4abc3-a9a6-4b80-b59e-3483f939b31d"
      },
      "source": [
        "X_train, X_test, y_train, y_test = train_test_split(X, y, \n",
        "                                                    test_size=0.4, \n",
        "                                                    random_state=0)\n",
        "print(X_train.shape, y_train.shape)\n",
        "print(X_test.shape, y_test.shape)"
      ],
      "execution_count": null,
      "outputs": [
        {
          "output_type": "stream",
          "text": [
            "(90, 4) (90,)\n",
            "(60, 4) (60,)\n"
          ],
          "name": "stdout"
        }
      ]
    },
    {
      "cell_type": "code",
      "metadata": {
        "id": "eiUFXiYi4jam",
        "colab_type": "code",
        "colab": {
          "base_uri": "https://localhost:8080/",
          "height": 35
        },
        "outputId": "8b7591f8-2646-466d-8b4f-c15360219371"
      },
      "source": [
        "clf = svm.SVC(kernel='linear', C=1).fit(X_train, y_train)\n",
        "clf.score(X_test, y_test)"
      ],
      "execution_count": null,
      "outputs": [
        {
          "output_type": "execute_result",
          "data": {
            "text/plain": [
              "0.9666666666666667"
            ]
          },
          "metadata": {
            "tags": []
          },
          "execution_count": 39
        }
      ]
    },
    {
      "cell_type": "markdown",
      "metadata": {
        "id": "wvK30-635Vy1",
        "colab_type": "text"
      },
      "source": [
        "## cross-validation"
      ]
    },
    {
      "cell_type": "code",
      "metadata": {
        "id": "-M9A5sdf4tNZ",
        "colab_type": "code",
        "colab": {
          "base_uri": "https://localhost:8080/",
          "height": 53
        },
        "outputId": "0a2b4bc2-7773-4f6f-afde-80881369b33e"
      },
      "source": [
        "from sklearn.model_selection import cross_val_score\n",
        "\n",
        "clf = svm.SVC(kernel='linear', C=1)\n",
        "\n",
        "scores = cross_val_score(clf, X, y, cv=5)\n",
        "print('score', scores)\n",
        "\n",
        "# mean score\n",
        "print('Accuracy: %0.2f (+/- %0.2f)' % (scores.mean(), scores.std() * 2))"
      ],
      "execution_count": null,
      "outputs": [
        {
          "output_type": "stream",
          "text": [
            "score [0.96666667 1.         0.96666667 0.96666667 1.        ]\n",
            "Accuracy: 0.98 (+/- 0.03)\n"
          ],
          "name": "stdout"
        }
      ]
    },
    {
      "cell_type": "code",
      "metadata": {
        "id": "J2f_S0wK5i92",
        "colab_type": "code",
        "colab": {
          "base_uri": "https://localhost:8080/",
          "height": 53
        },
        "outputId": "59295a48-c36b-406f-8086-82806d1e92d9"
      },
      "source": [
        "from sklearn.model_selection import ShuffleSplit\n",
        "\n",
        "cv = ShuffleSplit(n_splits=5, test_size=0.3, random_state=0)\n",
        "scores = cross_val_score(clf, X, y, cv=cv)\n",
        "print('score', scores)\n",
        "\n",
        "# mean score\n",
        "print('Accuracy: %0.2f (+/- %0.2f)' % (scores.mean(), scores.std() * 2))"
      ],
      "execution_count": null,
      "outputs": [
        {
          "output_type": "stream",
          "text": [
            "score [0.97777778 0.97777778 1.         0.95555556 1.        ]\n",
            "Accuracy: 0.98 (+/- 0.03)\n"
          ],
          "name": "stdout"
        }
      ]
    },
    {
      "cell_type": "markdown",
      "metadata": {
        "id": "UqLZFEx28Tu8",
        "colab_type": "text"
      },
      "source": [
        "# Example"
      ]
    },
    {
      "cell_type": "code",
      "metadata": {
        "id": "V72sOpau6xOs",
        "colab_type": "code",
        "colab": {}
      },
      "source": [
        "from sklearn import datasets, linear_model\n",
        "from sklearn.model_selection import cross_validate\n",
        "\n",
        "diabetes = datasets.load_diabetes()\n",
        "X = diabetes.data[:150]\n",
        "y = diabetes.target[:150]"
      ],
      "execution_count": null,
      "outputs": []
    },
    {
      "cell_type": "code",
      "metadata": {
        "id": "pZQRYHeX8bEA",
        "colab_type": "code",
        "colab": {
          "base_uri": "https://localhost:8080/",
          "height": 267
        },
        "outputId": "7372b18d-cebe-4e6c-d613-80479bac9f49"
      },
      "source": [
        "print(X.shape)\n",
        "print(X)"
      ],
      "execution_count": null,
      "outputs": [
        {
          "output_type": "stream",
          "text": [
            "(150, 10)\n",
            "[[ 0.03807591  0.05068012  0.06169621 ... -0.00259226  0.01990842\n",
            "  -0.01764613]\n",
            " [-0.00188202 -0.04464164 -0.05147406 ... -0.03949338 -0.06832974\n",
            "  -0.09220405]\n",
            " [ 0.08529891  0.05068012  0.04445121 ... -0.00259226  0.00286377\n",
            "  -0.02593034]\n",
            " ...\n",
            " [-0.05637009 -0.04464164  0.09295276 ...  0.02545259  0.02605609\n",
            "   0.04034337]\n",
            " [-0.06000263  0.05068012  0.01535029 ... -0.00259226 -0.03075121\n",
            "  -0.0010777 ]\n",
            " [-0.04910502  0.05068012 -0.00512814 ...  0.07120998  0.06123791\n",
            "  -0.03835666]]\n"
          ],
          "name": "stdout"
        }
      ]
    },
    {
      "cell_type": "code",
      "metadata": {
        "id": "YdPIXzf78c_f",
        "colab_type": "code",
        "colab": {
          "base_uri": "https://localhost:8080/",
          "height": 231
        },
        "outputId": "ef4f13cf-59f6-45c8-eb1c-4aafab84138e"
      },
      "source": [
        "print(y.shape)\n",
        "print(y)"
      ],
      "execution_count": null,
      "outputs": [
        {
          "output_type": "stream",
          "text": [
            "(150,)\n",
            "[151.  75. 141. 206. 135.  97. 138.  63. 110. 310. 101.  69. 179. 185.\n",
            " 118. 171. 166. 144.  97. 168.  68.  49.  68. 245. 184. 202. 137.  85.\n",
            " 131. 283. 129.  59. 341.  87.  65. 102. 265. 276. 252.  90. 100.  55.\n",
            "  61.  92. 259.  53. 190. 142.  75. 142. 155. 225.  59. 104. 182. 128.\n",
            "  52.  37. 170. 170.  61. 144.  52. 128.  71. 163. 150.  97. 160. 178.\n",
            "  48. 270. 202. 111.  85.  42. 170. 200. 252. 113. 143.  51.  52. 210.\n",
            "  65. 141.  55. 134.  42. 111.  98. 164.  48.  96.  90. 162. 150. 279.\n",
            "  92.  83. 128. 102. 302. 198.  95.  53. 134. 144. 232.  81. 104.  59.\n",
            " 246. 297. 258. 229. 275. 281. 179. 200. 200. 173. 180.  84. 121. 161.\n",
            "  99. 109. 115. 268. 274. 158. 107.  83. 103. 272.  85. 280. 336. 281.\n",
            " 118. 317. 235.  60. 174. 259. 178. 128.  96. 126.]\n"
          ],
          "name": "stdout"
        }
      ]
    },
    {
      "cell_type": "code",
      "metadata": {
        "id": "JvFuQ7N18n1t",
        "colab_type": "code",
        "colab": {
          "base_uri": "https://localhost:8080/",
          "height": 53
        },
        "outputId": "b28b1fc5-0562-456e-ce5a-f97a2e419671"
      },
      "source": [
        "from sklearn import linear_model\n",
        "\n",
        "lasso = linear_model.Lasso()\n",
        "\n",
        "# single metric evaluation using cross_validate\n",
        "cv_results = cross_validate(lasso, X, y, cv=3)\n",
        "print(cv_results['test_score'])\n",
        "\n",
        "# mean score\n",
        "print('Accuracy: %0.2f (+/- %0.2f)' % (cv_results['test_score'].mean(), \n",
        "                                       cv_results['test_score'].std() * 2))"
      ],
      "execution_count": null,
      "outputs": [
        {
          "output_type": "stream",
          "text": [
            "[0.33150734 0.08022311 0.03531764]\n",
            "Accuracy: 0.15 (+/- 0.26)\n"
          ],
          "name": "stdout"
        }
      ]
    },
    {
      "cell_type": "code",
      "metadata": {
        "id": "eK2ExiFf-Rbq",
        "colab_type": "code",
        "colab": {
          "base_uri": "https://localhost:8080/",
          "height": 53
        },
        "outputId": "60ecc68b-c3d8-425a-cb40-885230e452a4"
      },
      "source": [
        "from sklearn.model_selection import ShuffleSplit\n",
        "from sklearn.model_selection import cross_validate\n",
        "\n",
        "cv = ShuffleSplit(n_splits=5, test_size=0.3, random_state=0)\n",
        "scores = cross_val_score(lasso, X, y, cv=cv)\n",
        "print('score', scores)\n",
        "\n",
        "# mean score\n",
        "print('Accuracy: %0.2f (+/- %0.2f)' % (scores.mean(), scores.std() * 2))"
      ],
      "execution_count": null,
      "outputs": [
        {
          "output_type": "stream",
          "text": [
            "score [0.30553672 0.22064577 0.17962466 0.25542505 0.33841705]\n",
            "Accuracy: 0.26 (+/- 0.11)\n"
          ],
          "name": "stdout"
        }
      ]
    },
    {
      "cell_type": "code",
      "metadata": {
        "id": "MkrLoNFx-2Gr",
        "colab_type": "code",
        "colab": {}
      },
      "source": [
        ""
      ],
      "execution_count": null,
      "outputs": []
    }
  ]
}